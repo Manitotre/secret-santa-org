{
 "cells": [
  {
   "cell_type": "markdown",
   "metadata": {},
   "source": [
    "## 0. Importing Libraries"
   ]
  },
  {
   "cell_type": "code",
   "execution_count": 3,
   "metadata": {},
   "outputs": [],
   "source": [
    "import random\n",
    "import pandas as pd\n",
    "import ezgmail"
   ]
  },
  {
   "cell_type": "markdown",
   "metadata": {},
   "source": [
    "## 1. Creating Pariticipant class\n",
    "\n",
    "1. Class method for creating participant list \n",
    "2. Class method for matching the participants"
   ]
  },
  {
   "cell_type": "code",
   "execution_count": 4,
   "metadata": {},
   "outputs": [],
   "source": [
    "class Participant():\n",
    "    num_of_participants=0\n",
    "    participant_list=[]\n",
    "    name_to_email_dict=dict()\n",
    "    matched_pairs=[]\n",
    "\n",
    "    def __init__(self,name,email):\n",
    "        self.name=name\n",
    "        self.email=email\n",
    "        Participant.participant_list.append(name)\n",
    "        Participant.num_of_participants+=1\n",
    "        Participant.name_to_email_dict.update({name:email})\n",
    "    \n",
    "    @classmethod\n",
    "    def get_list(cls):\n",
    "        return list(cls.participant_list)\n",
    "    \n",
    "    @classmethod\n",
    "    def match(cls):\n",
    "        cls.matched_pairs=[]\n",
    "        participants_list=Participant.get_list()\n",
    "        selection_pool=Participant.get_list()\n",
    "        while len(cls.matched_pairs)<len(participants_list):\n",
    "            try:\n",
    "                for i in participants_list:\n",
    "                    a=list(selection_pool)\n",
    "                    try:\n",
    "                        a.remove(i)\n",
    "                    except: pass\n",
    "                    chosen=random.choice(a)\n",
    "                    cls.matched_pairs.append([i,chosen])\n",
    "                    selection_pool.remove(chosen)\n",
    "            except: pass\n",
    "        return list(cls.matched_pairs)\n",
    "\n",
    "    @classmethod\n",
    "    def mail_list(cls):\n",
    "        cls.mailing_list=[]\n",
    "        matched_list=Participant.match()\n",
    "        for i in matched_list:\n",
    "            cls.mailing_list.append([Participant.name_to_email_dict.get(i[0]), i[1]])\n",
    "        \n",
    "        return list(cls.mailing_list)"
   ]
  },
  {
   "cell_type": "markdown",
   "metadata": {},
   "source": [
    "## 2. Importing data"
   ]
  },
  {
   "cell_type": "code",
   "execution_count": 5,
   "metadata": {},
   "outputs": [],
   "source": [
    "input_df=pd.read_csv('Data/secret-santa-dummy.csv')\n",
    "input_df.rename(columns={'1. Ποιό είναι το όνομά σας;': 'name', '2. Ποιά είναι η διεύθυνση ταχυδρομείου που χρησιμοποιείτε;': 'email' }, inplace=True)\n",
    "input_data=input_df[['name','email']].values.tolist()"
   ]
  },
  {
   "cell_type": "markdown",
   "metadata": {},
   "source": [
    "## 3. Creating the several participant instances"
   ]
  },
  {
   "cell_type": "code",
   "execution_count": 6,
   "metadata": {},
   "outputs": [],
   "source": [
    "#Creating multiple participants based on list\n",
    "participanto=list()\n",
    "for i in range(0,len(input_data)):\n",
    "    participanto.append(Participant(input_data[i][0],input_data[i][1]))"
   ]
  },
  {
   "cell_type": "markdown",
   "metadata": {},
   "source": [
    "## 4. Matching the participants and creating the mailing_list"
   ]
  },
  {
   "cell_type": "code",
   "execution_count": 16,
   "metadata": {},
   "outputs": [],
   "source": [
    "matched_pairs=Participant.match()\n",
    "mailing_list=Participant.mail_list()"
   ]
  },
  {
   "cell_type": "markdown",
   "metadata": {},
   "source": [
    "## 5. Formatting and sending the emails to the mailing list."
   ]
  },
  {
   "cell_type": "code",
   "execution_count": 18,
   "metadata": {},
   "outputs": [
    {
     "name": "stdout",
     "output_type": "stream",
     "text": [
      "jarvaniti@outlook.com.gr Secret santa 2021 Καλησπέρα, πρέπει να πάρεις δώρο για τον/την Paris.\n",
      "thanasislmpr@gmail.com Secret santa 2021 Καλησπέρα, πρέπει να πάρεις δώρο για τον/την Simonian.\n",
      "nektaria.pra@gmail.com Secret santa 2021 Καλησπέρα, πρέπει να πάρεις δώρο για τον/την Ιωάννα .\n",
      "gerasimoskatsagannis@gmail.com Secret santa 2021 Καλησπέρα, πρέπει να πάρεις δώρο για τον/την Θανος.\n",
      "aggelos.absent.97@gmail.com Secret santa 2021 Καλησπέρα, πρέπει να πάρεις δώρο για τον/την Λεμον.\n",
      "mtheodwra@gmail.com Secret santa 2021 Καλησπέρα, πρέπει να πάρεις δώρο για τον/την Νεκταρία.\n",
      "lem.fatourou@gmail.com Secret santa 2021 Καλησπέρα, πρέπει να πάρεις δώρο για τον/την Αγγελος.\n",
      "parismilonas97@gmail.com Secret santa 2021 Καλησπέρα, πρέπει να πάρεις δώρο για τον/την Θεοδώρα (Μπλακ).\n"
     ]
    }
   ],
   "source": [
    "for i in mailing_list:\n",
    "    print(i[0], 'Secret santa 2021', f'Καλησπέρα, πρέπει να πάρεις δώρο για τον/την {i[1]}.')"
   ]
  },
  {
   "cell_type": "code",
   "execution_count": null,
   "metadata": {},
   "outputs": [],
   "source": []
  }
 ],
 "metadata": {
  "interpreter": {
   "hash": "1931b7e9bdc76efbdb249b583e66aa8e3d9a7d506361acc61c63c9aae92f61d2"
  },
  "kernelspec": {
   "display_name": "Python 3.8.10 64-bit ('Clean': conda)",
   "language": "python",
   "name": "python3"
  },
  "language_info": {
   "codemirror_mode": {
    "name": "ipython",
    "version": 3
   },
   "file_extension": ".py",
   "mimetype": "text/x-python",
   "name": "python",
   "nbconvert_exporter": "python",
   "pygments_lexer": "ipython3",
   "version": "3.8.12"
  },
  "orig_nbformat": 4
 },
 "nbformat": 4,
 "nbformat_minor": 2
}
