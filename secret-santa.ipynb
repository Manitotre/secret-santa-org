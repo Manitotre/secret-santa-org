{
 "cells": [
  {
   "cell_type": "code",
   "execution_count": null,
   "metadata": {},
   "outputs": [
    {
     "ename": "",
     "evalue": "",
     "output_type": "error",
     "traceback": [
      "\u001b[1;31mRunning cells with 'Python 3.8.12 64-bit ('secret-santa': conda)' requires ipykernel package.\n",
      "Run the following command to install 'ipykernel' into the Python environment. \n",
      "Command: 'conda install -n secret-santa ipykernel --update-deps --force-reinstall'"
     ]
    }
   ],
   "source": [
    "import random"
   ]
  },
  {
   "cell_type": "code",
   "execution_count": 7,
   "metadata": {},
   "outputs": [],
   "source": [
    "class Participant():\n",
    "    num_of_participants=0\n",
    "    participant_list=[]\n",
    "    name_to_email_dict=dict()\n",
    "    matched_pairs=[]\n",
    "\n",
    "    def __init__(self,name,email):\n",
    "        self.name=name\n",
    "        self.email=email\n",
    "        Participant.participant_list.append(name)\n",
    "        Participant.num_of_participants+=1\n",
    "        Participant.name_to_email_dict.update({name:email})\n",
    "    \n",
    "    @classmethod\n",
    "    def get_list(cls):\n",
    "        return list(cls.participant_list)\n",
    "    \n",
    "    @classmethod\n",
    "    def match(cls):\n",
    "        cls.matched_pairs=[]\n",
    "        participants_list=Participant.get_list()\n",
    "        selection_pool=Participant.get_list()\n",
    "        while len(cls.matched_pairs)<len(participants_list):\n",
    "            try:\n",
    "                for i in participants_list:\n",
    "                    a=list(selection_pool)\n",
    "                    try:\n",
    "                        a.remove(i)\n",
    "                    except: pass\n",
    "                    chosen=random.choice(a)\n",
    "                    cls.matched_pairs.append([i,chosen])\n",
    "                    selection_pool.remove(chosen)\n",
    "            except: pass\n",
    "        return list(cls.matched_pairs)"
   ]
  },
  {
   "cell_type": "code",
   "execution_count": 8,
   "metadata": {},
   "outputs": [],
   "source": [
    "input_data=[['Paris','KAKAKAK@GMAIL.COM'], ['DOLMAS','KAKAK2131K@GMAIL.COM'], ['kORKO','KA231231@GMAIL.COM'],['A', 'EMAIL'], ['B', 'EMAIL-B']]"
   ]
  },
  {
   "cell_type": "code",
   "execution_count": 9,
   "metadata": {},
   "outputs": [],
   "source": [
    "#Creating multiple participants based on list\n",
    "participanto=list()\n",
    "for i in range(0,len(input_data)):\n",
    "    participanto.append(Participant(input_data[i][0],input_data[i][1]))"
   ]
  },
  {
   "cell_type": "code",
   "execution_count": 10,
   "metadata": {},
   "outputs": [],
   "source": [
    "matched_pairs=Participant.match()"
   ]
  },
  {
   "cell_type": "markdown",
   "metadata": {},
   "source": [
    "## HOW TO AVOID LAST PERSON HAVING TO BUY FOR THEMSELVES??"
   ]
  },
  {
   "cell_type": "code",
   "execution_count": 7,
   "metadata": {},
   "outputs": [
    {
     "data": {
      "text/plain": [
       "[['Paris', 'kORKO'],\n",
       " ['DOLMAS', 'A'],\n",
       " ['kORKO', 'Paris'],\n",
       " ['A', 'B'],\n",
       " ['B', 'DOLMAS']]"
      ]
     },
     "execution_count": 7,
     "metadata": {},
     "output_type": "execute_result"
    }
   ],
   "source": [
    "matched_pairs"
   ]
  },
  {
   "cell_type": "code",
   "execution_count": null,
   "metadata": {},
   "outputs": [],
   "source": []
  }
 ],
 "metadata": {
  "interpreter": {
   "hash": "1931b7e9bdc76efbdb249b583e66aa8e3d9a7d506361acc61c63c9aae92f61d2"
  },
  "kernelspec": {
   "display_name": "Python 3.8.10 64-bit ('Clean': conda)",
   "language": "python",
   "name": "python3"
  },
  "language_info": {
   "codemirror_mode": {
    "name": "ipython",
    "version": 3
   },
   "file_extension": ".py",
   "mimetype": "text/x-python",
   "name": "python",
   "nbconvert_exporter": "python",
   "pygments_lexer": "ipython3",
   "version": "3.8.12"
  },
  "orig_nbformat": 4
 },
 "nbformat": 4,
 "nbformat_minor": 2
}
